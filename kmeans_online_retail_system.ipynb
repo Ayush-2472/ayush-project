{
 "cells": [
  {
   "cell_type": "code",
   "execution_count": 1,
   "id": "b5c32188-1aa6-474f-a473-55cee597c7d2",
   "metadata": {},
   "outputs": [],
   "source": [
    "import pandas as pd\n",
    "import numpy as np\n",
    "import matplotlib.pyplot as plt\n",
    "import seaborn as sns\n",
    "import datetime as dt\n",
    "from sklearn.cluster import KMeans\n",
    "from sklearn.preprocessing import MinMaxScaler\n",
    "from sklearn.metrics import silhouette_score\n",
    "import random"
   ]
  },
  {
   "cell_type": "code",
   "execution_count": 7,
   "id": "959a998f-948c-48f3-b0d9-e66082a16976",
   "metadata": {},
   "outputs": [
    {
     "data": {
      "text/html": [
       "<div>\n",
       "<style scoped>\n",
       "    .dataframe tbody tr th:only-of-type {\n",
       "        vertical-align: middle;\n",
       "    }\n",
       "\n",
       "    .dataframe tbody tr th {\n",
       "        vertical-align: top;\n",
       "    }\n",
       "\n",
       "    .dataframe thead th {\n",
       "        text-align: right;\n",
       "    }\n",
       "</style>\n",
       "<table border=\"1\" class=\"dataframe\">\n",
       "  <thead>\n",
       "    <tr style=\"text-align: right;\">\n",
       "      <th></th>\n",
       "      <th>InvoiceNo</th>\n",
       "      <th>StockCode</th>\n",
       "      <th>Description</th>\n",
       "      <th>Quantity</th>\n",
       "      <th>InvoiceDate</th>\n",
       "      <th>UnitPrice</th>\n",
       "      <th>CustomerID</th>\n",
       "      <th>Country</th>\n",
       "    </tr>\n",
       "  </thead>\n",
       "  <tbody>\n",
       "    <tr>\n",
       "      <th>0</th>\n",
       "      <td>536365</td>\n",
       "      <td>85123A</td>\n",
       "      <td>WHITE HANGING HEART T-LIGHT HOLDER</td>\n",
       "      <td>6</td>\n",
       "      <td>2010-12-01 08:26:00</td>\n",
       "      <td>2.55</td>\n",
       "      <td>17850.0</td>\n",
       "      <td>United Kingdom</td>\n",
       "    </tr>\n",
       "    <tr>\n",
       "      <th>1</th>\n",
       "      <td>536365</td>\n",
       "      <td>71053</td>\n",
       "      <td>WHITE METAL LANTERN</td>\n",
       "      <td>6</td>\n",
       "      <td>2010-12-01 08:26:00</td>\n",
       "      <td>3.39</td>\n",
       "      <td>17850.0</td>\n",
       "      <td>United Kingdom</td>\n",
       "    </tr>\n",
       "    <tr>\n",
       "      <th>2</th>\n",
       "      <td>536365</td>\n",
       "      <td>84406B</td>\n",
       "      <td>CREAM CUPID HEARTS COAT HANGER</td>\n",
       "      <td>8</td>\n",
       "      <td>2010-12-01 08:26:00</td>\n",
       "      <td>2.75</td>\n",
       "      <td>17850.0</td>\n",
       "      <td>United Kingdom</td>\n",
       "    </tr>\n",
       "    <tr>\n",
       "      <th>3</th>\n",
       "      <td>536365</td>\n",
       "      <td>84029G</td>\n",
       "      <td>KNITTED UNION FLAG HOT WATER BOTTLE</td>\n",
       "      <td>6</td>\n",
       "      <td>2010-12-01 08:26:00</td>\n",
       "      <td>3.39</td>\n",
       "      <td>17850.0</td>\n",
       "      <td>United Kingdom</td>\n",
       "    </tr>\n",
       "    <tr>\n",
       "      <th>4</th>\n",
       "      <td>536365</td>\n",
       "      <td>84029E</td>\n",
       "      <td>RED WOOLLY HOTTIE WHITE HEART.</td>\n",
       "      <td>6</td>\n",
       "      <td>2010-12-01 08:26:00</td>\n",
       "      <td>3.39</td>\n",
       "      <td>17850.0</td>\n",
       "      <td>United Kingdom</td>\n",
       "    </tr>\n",
       "  </tbody>\n",
       "</table>\n",
       "</div>"
      ],
      "text/plain": [
       "  InvoiceNo StockCode                          Description  Quantity  \\\n",
       "0    536365    85123A   WHITE HANGING HEART T-LIGHT HOLDER         6   \n",
       "1    536365     71053                  WHITE METAL LANTERN         6   \n",
       "2    536365    84406B       CREAM CUPID HEARTS COAT HANGER         8   \n",
       "3    536365    84029G  KNITTED UNION FLAG HOT WATER BOTTLE         6   \n",
       "4    536365    84029E       RED WOOLLY HOTTIE WHITE HEART.         6   \n",
       "\n",
       "          InvoiceDate  UnitPrice  CustomerID         Country  \n",
       "0 2010-12-01 08:26:00       2.55     17850.0  United Kingdom  \n",
       "1 2010-12-01 08:26:00       3.39     17850.0  United Kingdom  \n",
       "2 2010-12-01 08:26:00       2.75     17850.0  United Kingdom  \n",
       "3 2010-12-01 08:26:00       3.39     17850.0  United Kingdom  \n",
       "4 2010-12-01 08:26:00       3.39     17850.0  United Kingdom  "
      ]
     },
     "execution_count": 7,
     "metadata": {},
     "output_type": "execute_result"
    }
   ],
   "source": [
    "#Loading dataset\n",
    "df = pd.read_excel('OnlineRetail (1).xlsx')\n",
    "df.head()"
   ]
  },
  {
   "cell_type": "code",
   "execution_count": 8,
   "id": "7db7acdd-5037-43fa-9c2d-48d6e56d97f3",
   "metadata": {},
   "outputs": [
    {
     "name": "stdout",
     "output_type": "stream",
     "text": [
      "<class 'pandas.core.frame.DataFrame'>\n",
      "RangeIndex: 541909 entries, 0 to 541908\n",
      "Data columns (total 8 columns):\n",
      " #   Column       Non-Null Count   Dtype         \n",
      "---  ------       --------------   -----         \n",
      " 0   InvoiceNo    541909 non-null  object        \n",
      " 1   StockCode    541909 non-null  object        \n",
      " 2   Description  540455 non-null  object        \n",
      " 3   Quantity     541909 non-null  int64         \n",
      " 4   InvoiceDate  541909 non-null  datetime64[ns]\n",
      " 5   UnitPrice    541909 non-null  float64       \n",
      " 6   CustomerID   406829 non-null  float64       \n",
      " 7   Country      541909 non-null  object        \n",
      "dtypes: datetime64[ns](1), float64(2), int64(1), object(4)\n",
      "memory usage: 33.1+ MB\n"
     ]
    }
   ],
   "source": [
    "#Exploring Dataset\n",
    "df.info()"
   ]
  },
  {
   "cell_type": "code",
   "execution_count": 11,
   "id": "b984c7ea-3641-442e-a3e3-974dcf8d4f32",
   "metadata": {},
   "outputs": [
    {
     "name": "stdout",
     "output_type": "stream",
     "text": [
      "<class 'pandas.core.frame.DataFrame'>\n",
      "RangeIndex: 541909 entries, 0 to 541908\n",
      "Data columns (total 10 columns):\n",
      " #   Column       Non-Null Count   Dtype         \n",
      "---  ------       --------------   -----         \n",
      " 0   InvoiceNo    541909 non-null  object        \n",
      " 1   StockCode    541909 non-null  object        \n",
      " 2   Description  540455 non-null  object        \n",
      " 3   Quantity     541909 non-null  int64         \n",
      " 4   InvoiceDate  541909 non-null  datetime64[ns]\n",
      " 5   UnitPrice    541909 non-null  float64       \n",
      " 6   CustomerID   406829 non-null  float64       \n",
      " 7   Country      541909 non-null  object        \n",
      " 8   CustomeID    541909 non-null  object        \n",
      " 9   Amount       541909 non-null  float64       \n",
      "dtypes: datetime64[ns](1), float64(3), int64(1), object(5)\n",
      "memory usage: 41.3+ MB\n",
      "<class 'pandas.core.frame.DataFrame'>\n",
      "Index: 406829 entries, 0 to 541908\n",
      "Data columns (total 10 columns):\n",
      " #   Column       Non-Null Count   Dtype         \n",
      "---  ------       --------------   -----         \n",
      " 0   InvoiceNo    406829 non-null  object        \n",
      " 1   StockCode    406829 non-null  object        \n",
      " 2   Description  406829 non-null  object        \n",
      " 3   Quantity     406829 non-null  int64         \n",
      " 4   InvoiceDate  406829 non-null  datetime64[ns]\n",
      " 5   UnitPrice    406829 non-null  float64       \n",
      " 6   CustomerID   406829 non-null  float64       \n",
      " 7   Country      406829 non-null  object        \n",
      " 8   CustomeID    406829 non-null  object        \n",
      " 9   Amount       406829 non-null  float64       \n",
      "dtypes: datetime64[ns](1), float64(3), int64(1), object(5)\n",
      "memory usage: 34.1+ MB\n"
     ]
    },
    {
     "data": {
      "text/plain": [
       "(406829, 10)"
      ]
     },
     "execution_count": 11,
     "metadata": {},
     "output_type": "execute_result"
    }
   ],
   "source": [
    "#Data Cleaning\n",
    "df.shape\n",
    "df.info()\n",
    "df.isnull().sum()\n",
    "ds=df.dropna()\n",
    "ds.info()\n",
    "ds.shape"
   ]
  },
  {
   "cell_type": "markdown",
   "id": "a02f78a4-86f1-4442-ae3b-fe295316d551",
   "metadata": {},
   "source": [
    "# RFM"
   ]
  },
  {
   "cell_type": "markdown",
   "id": "5466144b-2a1a-4e8c-a9a9-4d680861e4f1",
   "metadata": {},
   "source": [
    "# R(Recency): Number of days since last purchase"
   ]
  },
  {
   "cell_type": "markdown",
   "id": "bbf13c4a-d23e-4916-bd44-07cdb4c39eb9",
   "metadata": {},
   "source": [
    "# F(Frequency): Number of Transactions"
   ]
  },
  {
   "cell_type": "markdown",
   "id": "9883821d-5f90-448a-8670-a54fc6b4ce51",
   "metadata": {},
   "source": [
    "# M(Monetary): Total Amount of transactions\n",
    "(revenue contributed)"
   ]
  },
  {
   "cell_type": "code",
   "execution_count": 12,
   "id": "7116b141-908a-49cb-b50b-8998a5dbdc84",
   "metadata": {},
   "outputs": [
    {
     "name": "stdout",
     "output_type": "stream",
     "text": [
      "CustomerID\n",
      "12346.0       0.00\n",
      "12347.0    4310.00\n",
      "12348.0    1797.24\n",
      "12349.0    1757.55\n",
      "12350.0     334.40\n",
      "            ...   \n",
      "18280.0     180.60\n",
      "18281.0      80.82\n",
      "18282.0     176.60\n",
      "18283.0    2094.88\n",
      "18287.0    1837.28\n",
      "Name: Amount, Length: 4372, dtype: float64\n"
     ]
    }
   ],
   "source": [
    "#Data Preprocessing\n",
    "df['CustomeID'] = df['CustomerID'].astype(str)\n",
    "df['Amount'] = df['Quantity']*df['UnitPrice']\n",
    "rfm_ds_m = ds.groupby('CustomerID')['Amount'].sum()\n",
    "rfm_ds_m.reset_index()\n",
    "rfm_ds_m.column = ['CustomerID','Amount']\n",
    "print(rfm_ds_m)"
   ]
  },
  {
   "cell_type": "code",
   "execution_count": 13,
   "id": "4d84fe2b-092b-449c-9464-4e8b6adf2be3",
   "metadata": {},
   "outputs": [
    {
     "name": "stdout",
     "output_type": "stream",
     "text": [
      "      CustomerID  Frequency\n",
      "0        12346.0          2\n",
      "1        12347.0        182\n",
      "2        12348.0         31\n",
      "3        12349.0         73\n",
      "4        12350.0         17\n",
      "...          ...        ...\n",
      "4367     18280.0         10\n",
      "4368     18281.0          7\n",
      "4369     18282.0         13\n",
      "4370     18283.0        756\n",
      "4371     18287.0         70\n",
      "\n",
      "[4372 rows x 2 columns]\n"
     ]
    }
   ],
   "source": [
    "rfm_ds_f = ds.groupby('CustomerID')['InvoiceNo'].count()\n",
    "rfm_ds_f = rfm_ds_f.reset_index()\n",
    "rfm_ds_f.columns = ['CustomerID','Frequency']\n",
    "print(rfm_ds_f)"
   ]
  },
  {
   "cell_type": "code",
   "execution_count": 15,
   "id": "3cf3df47-b2b8-483e-a110-9b99828efe5e",
   "metadata": {},
   "outputs": [
    {
     "name": "stderr",
     "output_type": "stream",
     "text": [
      "C:\\Users\\AayushmaanS\\AppData\\Local\\Temp\\ipykernel_18564\\2164023740.py:1: SettingWithCopyWarning: \n",
      "A value is trying to be set on a copy of a slice from a DataFrame.\n",
      "Try using .loc[row_indexer,col_indexer] = value instead\n",
      "\n",
      "See the caveats in the documentation: https://pandas.pydata.org/pandas-docs/stable/user_guide/indexing.html#returning-a-view-versus-a-copy\n",
      "  ds['InvoiceDate'] = pd.to_datetime(ds['InvoiceDate'],format='%d-%m-%Y%H: %M')\n"
     ]
    },
    {
     "name": "stdout",
     "output_type": "stream",
     "text": [
      "      CustomerID  Diff\n",
      "0        12346.0   325\n",
      "1        12347.0     1\n",
      "2        12348.0    74\n",
      "3        12349.0    18\n",
      "4        12350.0   309\n",
      "...          ...   ...\n",
      "4367     18280.0   277\n",
      "4368     18281.0   180\n",
      "4369     18282.0     7\n",
      "4370     18283.0     3\n",
      "4371     18287.0    42\n",
      "\n",
      "[4372 rows x 2 columns]\n"
     ]
    },
    {
     "name": "stderr",
     "output_type": "stream",
     "text": [
      "C:\\Users\\AayushmaanS\\AppData\\Local\\Temp\\ipykernel_18564\\2164023740.py:3: SettingWithCopyWarning: \n",
      "A value is trying to be set on a copy of a slice from a DataFrame.\n",
      "Try using .loc[row_indexer,col_indexer] = value instead\n",
      "\n",
      "See the caveats in the documentation: https://pandas.pydata.org/pandas-docs/stable/user_guide/indexing.html#returning-a-view-versus-a-copy\n",
      "  ds['Diff'] = max_date - ds['InvoiceDate']\n"
     ]
    }
   ],
   "source": [
    "ds['InvoiceDate'] = pd.to_datetime(ds['InvoiceDate'],format='%d-%m-%Y%H: %M')\n",
    "max_date = max(ds['InvoiceDate'])\n",
    "ds['Diff'] = max_date - ds['InvoiceDate']\n",
    "rfm_ds_p = ds.groupby('CustomerID')['Diff'].min()\n",
    "rfm_ds_p = rfm_ds_p.reset_index()\n",
    "rfm_ds_p.columns = ['CustomerID','Diff']\n",
    "rfm_ds_p['Diff'] = rfm_ds_p['Diff'].dt.days\n",
    "print(rfm_ds_p)"
   ]
  },
  {
   "cell_type": "code",
   "execution_count": 16,
   "id": "cd1a4bed-18ed-4719-b34e-e47f549e1b1e",
   "metadata": {},
   "outputs": [
    {
     "name": "stdout",
     "output_type": "stream",
     "text": [
      "   CustomerID   Amount  Frequency  Recency\n",
      "0     12346.0     0.00          2      325\n",
      "1     12347.0  4310.00        182        1\n",
      "2     12348.0  1797.24         31       74\n",
      "3     12349.0  1757.55         73       18\n",
      "4     12350.0   334.40         17      309\n"
     ]
    }
   ],
   "source": [
    "rfm_ds_final = pd.merge(rfm_ds_m,rfm_ds_f,on='CustomerID',how='inner')\n",
    "rfm_ds_final = pd.merge (rfm_ds_final,rfm_ds_p,on='CustomerID',how =\n",
    "'inner')\n",
    "rfm_ds_final.columns = ['CustomerID','Amount','Frequency','Recency']\n",
    "print(rfm_ds_final.head())"
   ]
  },
  {
   "cell_type": "raw",
   "id": "199e879e-c6b2-40d6-a72c-cd345a53c422",
   "metadata": {},
   "source": [
    " What are Outliers?\n",
    " An outliers is an object that deviates significantly from the rest of the objects. They can be caused by measurement or execution error. The analysis of outlier data is referred to as outlier analysis or outlier missing"
   ]
  },
  {
   "cell_type": "code",
   "execution_count": 17,
   "id": "8bce20e9-d95d-4199-b7b6-5b2ae4ca0b51",
   "metadata": {},
   "outputs": [
    {
     "name": "stdout",
     "output_type": "stream",
     "text": [
      "(4306, 4)\n"
     ]
    }
   ],
   "source": [
    "#Handling outliers\n",
    "Q1 = rfm_ds_final.Amount.quantile(0.05)\n",
    "Q3 = rfm_ds_final.Amount.quantile(0.95)\n",
    "IQR = Q3-Q1\n",
    "rfm_ds_final = rfm_ds_final[(rfm_ds_final.Amount>=Q1-1.5*IQR) &\n",
    "(rfm_ds_final.Amount<=1.5*Q3 + 1.5*IQR)]\n",
    "Q1 = rfm_ds_final.Recency.quantile(0.05)\n",
    "Q3 = rfm_ds_final.Recency.quantile(0.95)\n",
    "IQR = Q3-Q1\n",
    "rfm_ds_final = rfm_ds_final[(rfm_ds_final.Recency>=Q1-1.5*IQR) &\n",
    "(rfm_ds_final.Recency<= Q3 + 1.5*IQR)]\n",
    "Q1 = rfm_ds_final.Frequency.quantile(0.05)\n",
    "Q3 = rfm_ds_final.Frequency.quantile(0.95)\n",
    "IQR = Q3-Q1\n",
    "rfm_ds_final = rfm_ds_final[(rfm_ds_final.Frequency>=Q1-1.5*IQR) &\n",
    "(rfm_ds_final.Frequency<=Q3 + 1.5*IQR)]\n",
    "print(rfm_ds_final.shape)"
   ]
  },
  {
   "cell_type": "code",
   "execution_count": 18,
   "id": "ab2d1392-2150-4b1d-89fc-a38f571408c6",
   "metadata": {},
   "outputs": [
    {
     "data": {
      "text/html": [
       "<div>\n",
       "<style scoped>\n",
       "    .dataframe tbody tr th:only-of-type {\n",
       "        vertical-align: middle;\n",
       "    }\n",
       "\n",
       "    .dataframe tbody tr th {\n",
       "        vertical-align: top;\n",
       "    }\n",
       "\n",
       "    .dataframe thead th {\n",
       "        text-align: right;\n",
       "    }\n",
       "</style>\n",
       "<table border=\"1\" class=\"dataframe\">\n",
       "  <thead>\n",
       "    <tr style=\"text-align: right;\">\n",
       "      <th></th>\n",
       "      <th>Amount</th>\n",
       "      <th>Frequency</th>\n",
       "      <th>Recency</th>\n",
       "    </tr>\n",
       "  </thead>\n",
       "  <tbody>\n",
       "    <tr>\n",
       "      <th>0</th>\n",
       "      <td>0.207359</td>\n",
       "      <td>0.001350</td>\n",
       "      <td>0.871314</td>\n",
       "    </tr>\n",
       "    <tr>\n",
       "      <th>1</th>\n",
       "      <td>0.415799</td>\n",
       "      <td>0.244265</td>\n",
       "      <td>0.002681</td>\n",
       "    </tr>\n",
       "    <tr>\n",
       "      <th>2</th>\n",
       "      <td>0.294277</td>\n",
       "      <td>0.040486</td>\n",
       "      <td>0.198391</td>\n",
       "    </tr>\n",
       "    <tr>\n",
       "      <th>3</th>\n",
       "      <td>0.292357</td>\n",
       "      <td>0.097166</td>\n",
       "      <td>0.048257</td>\n",
       "    </tr>\n",
       "    <tr>\n",
       "      <th>4</th>\n",
       "      <td>0.223531</td>\n",
       "      <td>0.021592</td>\n",
       "      <td>0.828418</td>\n",
       "    </tr>\n",
       "  </tbody>\n",
       "</table>\n",
       "</div>"
      ],
      "text/plain": [
       "     Amount  Frequency   Recency\n",
       "0  0.207359   0.001350  0.871314\n",
       "1  0.415799   0.244265  0.002681\n",
       "2  0.294277   0.040486  0.198391\n",
       "3  0.292357   0.097166  0.048257\n",
       "4  0.223531   0.021592  0.828418"
      ]
     },
     "execution_count": 18,
     "metadata": {},
     "output_type": "execute_result"
    }
   ],
   "source": [
    "#Scaling\n",
    "X = rfm_ds_final[['Amount','Frequency','Recency']]\n",
    "scaler = MinMaxScaler()\n",
    "rfm_ds_scaled = scaler.fit_transform(X)\n",
    "rfm_ds_scaled = pd.DataFrame(rfm_ds_scaled)\n",
    "rfm_ds_scaled.columns = ['Amount','Frequency','Recency']\n",
    "rfm_ds_scaled.head()"
   ]
  },
  {
   "cell_type": "code",
   "execution_count": 19,
   "id": "40e65d3a-f20c-4ae1-bdac-42c8dc85ef20",
   "metadata": {},
   "outputs": [
    {
     "name": "stderr",
     "output_type": "stream",
     "text": [
      "C:\\Users\\AayushmaanS\\anaconda3\\Lib\\site-packages\\sklearn\\cluster\\_kmeans.py:870: FutureWarning: The default value of `n_init` will change from 10 to 'auto' in 1.4. Set the value of `n_init` explicitly to suppress the warning\n",
      "  warnings.warn(\n"
     ]
    },
    {
     "name": "stdout",
     "output_type": "stream",
     "text": [
      "[1 2 0 ... 1 0 0]\n"
     ]
    }
   ],
   "source": [
    "#Model creation\n",
    "kmeans = KMeans(n_clusters=3, max_iter=50)\n",
    "kmeans.fit(rfm_ds_scaled)\n",
    "lbs = kmeans.labels_\n",
    "print(kmeans.labels_)"
   ]
  },
  {
   "cell_type": "code",
   "execution_count": 20,
   "id": "e113e895-d33c-43e7-8dcf-5b1ba8bb0feb",
   "metadata": {},
   "outputs": [
    {
     "name": "stderr",
     "output_type": "stream",
     "text": [
      "C:\\Users\\AayushmaanS\\anaconda3\\Lib\\site-packages\\sklearn\\cluster\\_kmeans.py:870: FutureWarning: The default value of `n_init` will change from 10 to 'auto' in 1.4. Set the value of `n_init` explicitly to suppress the warning\n",
      "  warnings.warn(\n",
      "C:\\Users\\AayushmaanS\\anaconda3\\Lib\\site-packages\\sklearn\\cluster\\_kmeans.py:870: FutureWarning: The default value of `n_init` will change from 10 to 'auto' in 1.4. Set the value of `n_init` explicitly to suppress the warning\n",
      "  warnings.warn(\n",
      "C:\\Users\\AayushmaanS\\anaconda3\\Lib\\site-packages\\sklearn\\cluster\\_kmeans.py:870: FutureWarning: The default value of `n_init` will change from 10 to 'auto' in 1.4. Set the value of `n_init` explicitly to suppress the warning\n",
      "  warnings.warn(\n",
      "C:\\Users\\AayushmaanS\\anaconda3\\Lib\\site-packages\\sklearn\\cluster\\_kmeans.py:870: FutureWarning: The default value of `n_init` will change from 10 to 'auto' in 1.4. Set the value of `n_init` explicitly to suppress the warning\n",
      "  warnings.warn(\n",
      "C:\\Users\\AayushmaanS\\anaconda3\\Lib\\site-packages\\sklearn\\cluster\\_kmeans.py:870: FutureWarning: The default value of `n_init` will change from 10 to 'auto' in 1.4. Set the value of `n_init` explicitly to suppress the warning\n",
      "  warnings.warn(\n",
      "C:\\Users\\AayushmaanS\\anaconda3\\Lib\\site-packages\\sklearn\\cluster\\_kmeans.py:870: FutureWarning: The default value of `n_init` will change from 10 to 'auto' in 1.4. Set the value of `n_init` explicitly to suppress the warning\n",
      "  warnings.warn(\n",
      "C:\\Users\\AayushmaanS\\anaconda3\\Lib\\site-packages\\sklearn\\cluster\\_kmeans.py:870: FutureWarning: The default value of `n_init` will change from 10 to 'auto' in 1.4. Set the value of `n_init` explicitly to suppress the warning\n",
      "  warnings.warn(\n"
     ]
    },
    {
     "data": {
      "text/plain": [
       "[<matplotlib.lines.Line2D at 0x238e4302890>]"
      ]
     },
     "execution_count": 20,
     "metadata": {},
     "output_type": "execute_result"
    },
    {
     "data": {
      "image/png": "[encoded data removed]",
      "text/plain": [
       "<Figure size 640x480 with 1 Axes>"
      ]
     },
     "metadata": {},
     "output_type": "display_data"
    }
   ],
   "source": [
    "#wss\n",
    "wss = []\n",
    "range_n_clusters = [2,3,4,5,6,7,8]\n",
    "for num_clusters in range_n_clusters:\n",
    " kmeans = KMeans(n_clusters=num_clusters,max_iter=50)\n",
    " kmeans.fit(rfm_ds_scaled)\n",
    " wss.append(kmeans.inertia_)\n",
    "plt.plot(wss)"
   ]
  },
  {
   "cell_type": "code",
   "execution_count": 21,
   "id": "2a119412-748f-463b-aa6b-c0ea148c3524",
   "metadata": {},
   "outputs": [
    {
     "name": "stderr",
     "output_type": "stream",
     "text": [
      "C:\\Users\\AayushmaanS\\anaconda3\\Lib\\site-packages\\sklearn\\cluster\\_kmeans.py:870: FutureWarning: The default value of `n_init` will change from 10 to 'auto' in 1.4. Set the value of `n_init` explicitly to suppress the warning\n",
      "  warnings.warn(\n"
     ]
    },
    {
     "name": "stdout",
     "output_type": "stream",
     "text": [
      "For n_clusters =2, the silhouette score is 0.595979200114821\n"
     ]
    },
    {
     "name": "stderr",
     "output_type": "stream",
     "text": [
      "C:\\Users\\AayushmaanS\\anaconda3\\Lib\\site-packages\\sklearn\\cluster\\_kmeans.py:870: FutureWarning: The default value of `n_init` will change from 10 to 'auto' in 1.4. Set the value of `n_init` explicitly to suppress the warning\n",
      "  warnings.warn(\n"
     ]
    },
    {
     "name": "stdout",
     "output_type": "stream",
     "text": [
      "For n_clusters =3, the silhouette score is 0.5504053739273916\n"
     ]
    },
    {
     "name": "stderr",
     "output_type": "stream",
     "text": [
      "C:\\Users\\AayushmaanS\\anaconda3\\Lib\\site-packages\\sklearn\\cluster\\_kmeans.py:870: FutureWarning: The default value of `n_init` will change from 10 to 'auto' in 1.4. Set the value of `n_init` explicitly to suppress the warning\n",
      "  warnings.warn(\n"
     ]
    },
    {
     "name": "stdout",
     "output_type": "stream",
     "text": [
      "For n_clusters =4, the silhouette score is 0.510727479595324\n"
     ]
    },
    {
     "name": "stderr",
     "output_type": "stream",
     "text": [
      "C:\\Users\\AayushmaanS\\anaconda3\\Lib\\site-packages\\sklearn\\cluster\\_kmeans.py:870: FutureWarning: The default value of `n_init` will change from 10 to 'auto' in 1.4. Set the value of `n_init` explicitly to suppress the warning\n",
      "  warnings.warn(\n"
     ]
    },
    {
     "name": "stdout",
     "output_type": "stream",
     "text": [
      "For n_clusters =5, the silhouette score is 0.4412244739869485\n"
     ]
    },
    {
     "name": "stderr",
     "output_type": "stream",
     "text": [
      "C:\\Users\\AayushmaanS\\anaconda3\\Lib\\site-packages\\sklearn\\cluster\\_kmeans.py:870: FutureWarning: The default value of `n_init` will change from 10 to 'auto' in 1.4. Set the value of `n_init` explicitly to suppress the warning\n",
      "  warnings.warn(\n"
     ]
    },
    {
     "name": "stdout",
     "output_type": "stream",
     "text": [
      "For n_clusters =6, the silhouette score is 0.41025017710047085\n"
     ]
    },
    {
     "name": "stderr",
     "output_type": "stream",
     "text": [
      "C:\\Users\\AayushmaanS\\anaconda3\\Lib\\site-packages\\sklearn\\cluster\\_kmeans.py:870: FutureWarning: The default value of `n_init` will change from 10 to 'auto' in 1.4. Set the value of `n_init` explicitly to suppress the warning\n",
      "  warnings.warn(\n"
     ]
    },
    {
     "name": "stdout",
     "output_type": "stream",
     "text": [
      "For n_clusters =7, the silhouette score is 0.41073289756639964\n"
     ]
    },
    {
     "name": "stderr",
     "output_type": "stream",
     "text": [
      "C:\\Users\\AayushmaanS\\anaconda3\\Lib\\site-packages\\sklearn\\cluster\\_kmeans.py:870: FutureWarning: The default value of `n_init` will change from 10 to 'auto' in 1.4. Set the value of `n_init` explicitly to suppress the warning\n",
      "  warnings.warn(\n"
     ]
    },
    {
     "name": "stdout",
     "output_type": "stream",
     "text": [
      "For n_clusters =8, the silhouette score is 0.399346996917956\n"
     ]
    },
    {
     "name": "stderr",
     "output_type": "stream",
     "text": [
      "C:\\Users\\AayushmaanS\\anaconda3\\Lib\\site-packages\\sklearn\\cluster\\_kmeans.py:870: FutureWarning: The default value of `n_init` will change from 10 to 'auto' in 1.4. Set the value of `n_init` explicitly to suppress the warning\n",
      "  warnings.warn(\n"
     ]
    },
    {
     "name": "stdout",
     "output_type": "stream",
     "text": [
      "For n_clusters =9, the silhouette score is 0.39068187360492923\n"
     ]
    }
   ],
   "source": [
    "#silhoutte Score\n",
    "range_n_clusters = [2,3,4,5,6,7,8,9]\n",
    "for num_clusters in range_n_clusters:\n",
    " kmeans = KMeans(n_clusters = num_clusters,max_iter=50)\n",
    " kmeans.fit(rfm_ds_scaled)\n",
    " cluster_labels = kmeans.labels_\n",
    " silhouette_avg = silhouette_score(rfm_ds_scaled,cluster_labels)\n",
    " print('For n_clusters ={0}, the silhouette score is {1}'.format(num_clusters,silhouette_avg))\n"
   ]
  },
  {
   "cell_type": "code",
   "execution_count": 23,
   "id": "32ba12a8-fb0a-4078-8bea-17983b35a475",
   "metadata": {},
   "outputs": [
    {
     "name": "stderr",
     "output_type": "stream",
     "text": [
      "C:\\Users\\AayushmaanS\\anaconda3\\Lib\\site-packages\\sklearn\\cluster\\_kmeans.py:870: FutureWarning: The default value of `n_init` will change from 10 to 'auto' in 1.4. Set the value of `n_init` explicitly to suppress the warning\n",
      "  warnings.warn(\n"
     ]
    },
    {
     "name": "stdout",
     "output_type": "stream",
     "text": [
      "[1 2 0 ... 1 0 0]\n"
     ]
    },
    {
     "data": {
      "text/html": [
       "<div>\n",
       "<style scoped>\n",
       "    .dataframe tbody tr th:only-of-type {\n",
       "        vertical-align: middle;\n",
       "    }\n",
       "\n",
       "    .dataframe tbody tr th {\n",
       "        vertical-align: top;\n",
       "    }\n",
       "\n",
       "    .dataframe thead th {\n",
       "        text-align: right;\n",
       "    }\n",
       "</style>\n",
       "<table border=\"1\" class=\"dataframe\">\n",
       "  <thead>\n",
       "    <tr style=\"text-align: right;\">\n",
       "      <th></th>\n",
       "      <th>CustomerID</th>\n",
       "      <th>Amount</th>\n",
       "      <th>Frequency</th>\n",
       "      <th>Recency</th>\n",
       "      <th>Cluster_Id</th>\n",
       "    </tr>\n",
       "  </thead>\n",
       "  <tbody>\n",
       "    <tr>\n",
       "      <th>0</th>\n",
       "      <td>12346.0</td>\n",
       "      <td>0.00</td>\n",
       "      <td>2</td>\n",
       "      <td>325</td>\n",
       "      <td>1</td>\n",
       "    </tr>\n",
       "    <tr>\n",
       "      <th>1</th>\n",
       "      <td>12347.0</td>\n",
       "      <td>4310.00</td>\n",
       "      <td>182</td>\n",
       "      <td>1</td>\n",
       "      <td>2</td>\n",
       "    </tr>\n",
       "    <tr>\n",
       "      <th>2</th>\n",
       "      <td>12348.0</td>\n",
       "      <td>1797.24</td>\n",
       "      <td>31</td>\n",
       "      <td>74</td>\n",
       "      <td>0</td>\n",
       "    </tr>\n",
       "    <tr>\n",
       "      <th>3</th>\n",
       "      <td>12349.0</td>\n",
       "      <td>1757.55</td>\n",
       "      <td>73</td>\n",
       "      <td>18</td>\n",
       "      <td>0</td>\n",
       "    </tr>\n",
       "    <tr>\n",
       "      <th>4</th>\n",
       "      <td>12350.0</td>\n",
       "      <td>334.40</td>\n",
       "      <td>17</td>\n",
       "      <td>309</td>\n",
       "      <td>1</td>\n",
       "    </tr>\n",
       "  </tbody>\n",
       "</table>\n",
       "</div>"
      ],
      "text/plain": [
       "   CustomerID   Amount  Frequency  Recency  Cluster_Id\n",
       "0     12346.0     0.00          2      325           1\n",
       "1     12347.0  4310.00        182        1           2\n",
       "2     12348.0  1797.24         31       74           0\n",
       "3     12349.0  1757.55         73       18           0\n",
       "4     12350.0   334.40         17      309           1"
      ]
     },
     "execution_count": 23,
     "metadata": {},
     "output_type": "execute_result"
    }
   ],
   "source": [
    "kmeans = KMeans(n_clusters=3, max_iter=50)\n",
    "kmeans .fit(rfm_ds_scaled)\n",
    "print(kmeans.labels_)\n",
    "rfm_ds_final['Cluster_Id'] = lbs\n",
    "rfm_ds_final.head()"
   ]
  },
  {
   "cell_type": "code",
   "execution_count": 24,
   "id": "6389269b-0afe-4565-9731-01f09cba7e73",
   "metadata": {},
   "outputs": [
    {
     "data": {
      "text/plain": [
       "<Axes: xlabel='Cluster_Id', ylabel='Amount'>"
      ]
     },
     "execution_count": 24,
     "metadata": {},
     "output_type": "execute_result"
    },
    {
     "data": {
      "image/png": "[encoded data removed]",
      "text/plain": [
       "<Figure size 640x480 with 1 Axes>"
      ]
     },
     "metadata": {},
     "output_type": "display_data"
    }
   ],
   "source": [
    "sns.boxplot(x='Cluster_Id', y='Amount', data = rfm_ds_final)"
   ]
  },
  {
   "cell_type": "markdown",
   "id": "1d7a5efe-3e45-4533-8c8f-a337b43d4635",
   "metadata": {},
   "source": [
    "# From Above Chart we can analyze that people are spending more on cluster 2"
   ]
  },
  {
   "cell_type": "code",
   "execution_count": 25,
   "id": "4739a46a-aaba-486c-a869-276a4d70f821",
   "metadata": {},
   "outputs": [
    {
     "data": {
      "text/plain": [
       "<Axes: xlabel='Cluster_Id', ylabel='Frequency'>"
      ]
     },
     "execution_count": 25,
     "metadata": {},
     "output_type": "execute_result"
    },
    {
     "data": {
      "image/png": "[encoded data removed]",
      "text/plain": [
       "<Figure size 640x480 with 1 Axes>"
      ]
     },
     "metadata": {},
     "output_type": "display_data"
    }
   ],
   "source": [
    "sns.boxplot(x='Cluster_Id', y ='Frequency', data = rfm_ds_final)"
   ]
  },
  {
   "cell_type": "markdown",
   "id": "0acf279e-3ff4-4bcd-90fc-fc6dafe10df1",
   "metadata": {},
   "source": [
    "# People from Cluster 2 are frequent buyer and spend on Average between 2500-5000"
   ]
  },
  {
   "cell_type": "code",
   "execution_count": 26,
   "id": "d89b25d0-27ea-4323-9bb5-8d56be1e6deb",
   "metadata": {},
   "outputs": [
    {
     "data": {
      "text/plain": [
       "<Axes: xlabel='Cluster_Id', ylabel='Recency'>"
      ]
     },
     "execution_count": 26,
     "metadata": {},
     "output_type": "execute_result"
    },
    {
     "data": {
      "image/png": "[encoded data removed]",
      "text/plain": [
       "<Figure size 640x480 with 1 Axes>"
      ]
     },
     "metadata": {},
     "output_type": "display_data"
    }
   ],
   "source": [
    "sns.boxplot(x='Cluster_Id', y='Recency', data = rfm_ds_final)"
   ]
  },
  {
   "cell_type": "code",
   "execution_count": null,
   "id": "d6dcf44f-8100-482f-9396-6de0e6f1c944",
   "metadata": {},
   "outputs": [],
   "source": []
  }
 ],
 "metadata": {
  "kernelspec": {
   "display_name": "Python 3 (ipykernel)",
   "language": "python",
   "name": "python3"
  },
  "language_info": {
   "codemirror_mode": {
    "name": "ipython",
    "version": 3
   },
   "file_extension": ".py",
   "mimetype": "text/x-python",
   "name": "python",
   "nbconvert_exporter": "python",
   "pygments_lexer": "ipython3",
   "version": "3.11.7"
  }
 },
 "nbformat": 4,
 "nbformat_minor": 5
}
